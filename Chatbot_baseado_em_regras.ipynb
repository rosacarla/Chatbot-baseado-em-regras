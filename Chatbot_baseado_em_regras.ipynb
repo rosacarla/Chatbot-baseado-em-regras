{
  "cells": [
    {
      "cell_type": "markdown",
      "metadata": {
        "id": "view-in-github",
        "colab_type": "text"
      },
      "source": [
        "<a href=\"https://colab.research.google.com/github/rosacarla/Chatbot-baseado-em-regras/blob/main/Chatbot_baseado_em_regras.ipynb\" target=\"_parent\"><img src=\"https://colab.research.google.com/assets/colab-badge.svg\" alt=\"Open In Colab\"/></a>"
      ]
    },
    {
      "cell_type": "markdown",
      "metadata": {
        "id": "idIMZgaR3IqM"
      },
      "source": [
        "> # CHATBOT DE ATENDIMENTO AO CLIENTE BASEADO EM REGRAS\n",
        "> CURSO: Tecnólogo em Inteligência Artificial Aplicada  \n",
        "> DISCIPLINA: Agentes Conversacionais  \n",
        "> AUTOR: Carla Edila Silveira  \n",
        "> OBJETIVO: construir um chatbot com emprego de técnicas mais simples de desenvolvimento  \n",
        "> MELHORIA: inclusão das intenções de 'endereço', 'delivery' e 'reserva' na base de dados do restaurante  \n",
        "> DATA: 04/09/2023\n",
        "_______________________________________________________________________\n",
        "\n",
        "<img src=\"https://i.postimg.cc/SxmKc3q0/o-que-e-chatbot.jpg\">"
      ]
    },
    {
      "cell_type": "markdown",
      "metadata": {
        "id": "bJha823g3bk2"
      },
      "source": [
        "> ## 1. O que é um CHATBOT BASEADO EM REGRAS?\n",
        "> <p align=\"justify\">Este é um tipo de chatbot mais simples, composto por um dataset com respostas pré-definidas e uma série de regras para encontrar as respostas (ou intenções) no dataset.</p>\n",
        "> <p align=\"justify\">Embora apresente certas limitações, podem ser muito eficientes e produtivos se houver regras bem definidas e um dataset substancial com respostas.</p>\n"
      ]
    },
    {
      "cell_type": "markdown",
      "metadata": {
        "id": "DDw6X5Dq3h_Z"
      },
      "source": [
        "> ## 2. Qual é o contexto do chatbot deste projeto?\n",
        "> <p align=\"justify\">Como contextualização, será desenvolvido um chatbot de interação com clientes de um restaurante. O objetivo do chatbot é auxiliar o cliente a encontrar informações desejadas sem a necessidade de navegar por vários links do site.</p>"
      ]
    },
    {
      "cell_type": "markdown",
      "metadata": {
        "id": "0XlqXcfuAPbQ"
      },
      "source": [
        "> ## 3. Quais ferramentas e técnicas serão adotados?\n",
        ">*   **NLTK** - toolkit mais famoso de Processamento de Linguagem Natural em Python\n",
        ">*   **Expressões Regulares** - pacote de regex do Python para otimizar a busca de padrões\n",
        ">*   **WordNet** - banco de dados léxico e semântico, disponível em diversos idiomas\n",
        "\n"
      ]
    },
    {
      "cell_type": "markdown",
      "metadata": {
        "id": "rHKrJBjdBqw1"
      },
      "source": [
        "> ## 4. Construção do chatbot\n",
        "> O modo de operação do chatbot é o seguinte:\n",
        ">1.   Recebe **entrada** do usuário\n",
        ">2.   Procura **palavras-chave** na entrada do usuário\n",
        ">3.   Define a **intenção associada** à entrada\n",
        ">4.   Obtém a **resposta baseada na intenção** definida\n",
        ">5.   Mostra a **resposta** ao usuário  \n",
        "\n",
        ">Para isso é necessário uma **tabela que associe as palavras-chave desejadas, com as intenções definidas** no dataset.  \n",
        "> A seguir, há um exemplo:  \n",
        "\n",
        "![Exemplo de busca de intenção e resposta](https://docs.google.com/uc?export=download&id=1LnOTZiahBSv9VGrCSExbylNbxHpclMKZ)"
      ]
    },
    {
      "cell_type": "markdown",
      "metadata": {
        "id": "qb2Dp_OFJAyO"
      },
      "source": [
        "> ## 5. Importação de bibliotecas\n",
        "> Serão importados o pacote de expressões regulares do Python e o acesso ao WordNet dado pelo NLTK."
      ]
    },
    {
      "cell_type": "code",
      "execution_count": 34,
      "metadata": {
        "colab": {
          "base_uri": "https://localhost:8080/"
        },
        "id": "FRDAwuHdJZoo",
        "outputId": "957e0ff6-29bb-4bee-a769-d0c3d3b86271"
      },
      "outputs": [
        {
          "output_type": "stream",
          "name": "stderr",
          "text": [
            "[nltk_data] Downloading package omw-1.4 to /root/nltk_data...\n",
            "[nltk_data]   Package omw-1.4 is already up-to-date!\n",
            "[nltk_data] Downloading package wordnet to /root/nltk_data...\n",
            "[nltk_data]   Package wordnet is already up-to-date!\n",
            "[nltk_data] Downloading package omw to /root/nltk_data...\n",
            "[nltk_data]   Package omw is already up-to-date!\n"
          ]
        },
        {
          "output_type": "execute_result",
          "data": {
            "text/plain": [
              "True"
            ]
          },
          "metadata": {},
          "execution_count": 34
        }
      ],
      "source": [
        "import re\n",
        "import nltk\n",
        "nltk.download('omw-1.4') # Necessario download de omw-1.4 por erro na execucao\n",
        "from nltk.corpus import wordnet\n",
        "# Necessario download do wordnet\n",
        "nltk.download('wordnet')\n",
        "# Se usar Open Multilingual Wordnet\n",
        "nltk.download('omw')"
      ]
    },
    {
      "cell_type": "markdown",
      "metadata": {
        "id": "ftSLh5WhJYWN"
      },
      "source": [
        "> ## 6. Construção da lista de palavras-chave\n",
        "> <p align=\"justify\">A etapa pode levar mais tempo, caso se pretenda definir as palavras manualmente. Cabe lembrar que, quanto mais palavras-chave houver, maior cobertura terá o chatbot.</p>\n",
        "> <p align=\"justify\">Para fins didáticos, a tentativa será automatizar a busca a partir de único termo, com uso de sinônimos encontrados no WordNet.</p>"
      ]
    },
    {
      "cell_type": "code",
      "execution_count": 35,
      "metadata": {
        "colab": {
          "base_uri": "https://localhost:8080/"
        },
        "id": "gIva6KOh2l4y",
        "outputId": "4ee6a330-18fc-4928-ebe9-7094bf2a6740"
      },
      "outputs": [
        {
          "output_type": "stream",
          "name": "stdout",
          "text": [
            "{'olá': {'olá'}, 'oi': set(), 'bom dia': set(), 'boa tarde': set(), 'boa noite': set(), 'horário': {'plano', 'programa', 'horário', 'cronograma', 'ordem_do_dia', 'agenda'}, 'endereço': {'endereço'}, 'cardápio': {'cardápio', 'menu'}, 'pedido': {'oração', 'petição', 'apelo', 'encomenda', 'instância', 'pergunta', 'solicitação', 'demanda', 'requerimento', 'desejo', 'requisição', 'pedido'}, 'delivery': set(), 'reserva': {'reserva', 'reservas_(ecologia)', 'estoque', 'reservas'}}\n"
          ]
        }
      ],
      "source": [
        "# Lista de palavras com a grafia usual\n",
        "palavras=['olá', 'oi', 'bom dia', 'boa tarde', 'boa noite', 'horário', 'endereço','cardápio', 'pedido', 'delivery', 'reserva']\n",
        "# Dicionarios de sinonimos\n",
        "lista_sinonimos={}\n",
        "\n",
        "# Percorre lista de palavras\n",
        "for palavra in palavras:\n",
        "  sinonimos=[]\n",
        "  # Busca sinonimos da palavra no wordnet em pt-br\n",
        "  for syn in wordnet.synsets(palavra, lang=\"por\"):\n",
        "    # Busca formas lexicas da palavra\n",
        "    for lem in syn.lemmas(lang=\"por\"):\n",
        "      # Adiciona formas na lista\n",
        "      sinonimos.append(lem.name())\n",
        "\n",
        "  # Remove palavras duplicadas e adiciona ao dicionario\n",
        "  lista_sinonimos[palavra]=set(sinonimos)\n",
        "\n",
        "print(lista_sinonimos)"
      ]
    },
    {
      "cell_type": "markdown",
      "metadata": {
        "id": "vuywv9UR6HRD"
      },
      "source": [
        "\n",
        "> **OBSERVAÇÃO**: É possível adicionar mais palavras manualmente; remover sinônimo indesejado; adicionar frases completas ao invés de palavras-chave separadas."
      ]
    },
    {
      "cell_type": "code",
      "execution_count": 44,
      "metadata": {
        "colab": {
          "base_uri": "https://localhost:8080/"
        },
        "id": "SfBhdUXmNyiD",
        "outputId": "9e92adb2-1218-4794-bd9d-054d2f466674"
      },
      "outputs": [
        {
          "output_type": "stream",
          "name": "stdout",
          "text": [
            "{'olá': {'como vai', 'olá', 'boa tarde', 'oi', 'tudo bem', 'bom dia', 'boa noite'}, 'oi': set(), 'bom dia': set(), 'boa tarde': set(), 'boa noite': set(), 'horário': {'plano', 'programa', 'horário', 'cronograma', 'ordem_do_dia', 'agenda'}, 'endereço': {'localização', 'logradouro', 'direção', 'destino', 'endereço', 'domicílio', 'rua'}, 'cardápio': {'cardápio', 'pratos', 'prato', 'menu'}, 'pedido': {'oração', 'pedir comida', 'fazer pedido', 'petição', 'apelo', 'encomenda', 'instância', 'pergunta', 'solicitação', 'demanda', 'requerimento', 'desejo', 'requisição', 'pedido', 'comanda'}, 'delivery': {'entrega em casa', 'entregas', 'entrega em domicílio', 'leva-e-traz', 'entrega', 'transportar'}, 'reserva': {'reserva', 'agendamento', 'reservas_(ecologia)', 'reservação', 'estoque', 'marcar hora', 'reservas', 'combinar hora'}}\n"
          ]
        }
      ],
      "source": [
        "# Adiciona sinonimo inexistente no wordnet\n",
        "lista_sinonimos['olá'].add('oi')\n",
        "lista_sinonimos['olá'].add('bom dia')\n",
        "lista_sinonimos['olá'].add('boa tarde')\n",
        "lista_sinonimos['olá'].add('boa noite')\n",
        "lista_sinonimos['olá'].add('tudo bem')\n",
        "lista_sinonimos['olá'].add('como vai')\n",
        "lista_sinonimos['endereço'].add('rua')\n",
        "lista_sinonimos['endereço'].add('localização')\n",
        "lista_sinonimos['endereço'].add('logradouro')\n",
        "lista_sinonimos['endereço'].add('domicílio')\n",
        "lista_sinonimos['endereço'].add('destino')\n",
        "lista_sinonimos['endereço'].add('direção')\n",
        "lista_sinonimos['cardápio'].add('pratos')\n",
        "lista_sinonimos['delivery'].add('entregas')\n",
        "lista_sinonimos['delivery'].add('entrega em domicílio')\n",
        "lista_sinonimos['delivery'].add('entrega em casa')\n",
        "lista_sinonimos['delivery'].add('leva-e-traz')\n",
        "lista_sinonimos['delivery'].add('transportar')\n",
        "lista_sinonimos['reserva'].add('agendamento')\n",
        "lista_sinonimos['reserva'].add('marcar hora')\n",
        "lista_sinonimos['reserva'].add('combinar hora')\n",
        "lista_sinonimos['reserva'].add('reservação')\n",
        "lista_sinonimos['pedido'].add('pedir comida')\n",
        "lista_sinonimos['pedido'].add('comanda')\n",
        "lista_sinonimos['pedido'].add('fazer pedido')\n",
        "lista_sinonimos['pedido'].add('encomenda')\n",
        "\n",
        "print(lista_sinonimos)"
      ]
    },
    {
      "cell_type": "markdown",
      "metadata": {
        "id": "UStaGdFvML8M"
      },
      "source": [
        "> ## 7. Construindo dicionário de intenções\n",
        "> <p align=\"justify\">Será utilizado o dicionário de sinônimos construído e mapeados os sinônimos para possíveis intenções. Além disso, as palavras-chave serão formatadas para que sejam interpretadas pela ferramenta de busca de expressões regulares.</p>"
      ]
    },
    {
      "cell_type": "code",
      "execution_count": 45,
      "metadata": {
        "colab": {
          "base_uri": "https://localhost:8080/"
        },
        "id": "Mo4X9dzsMq09",
        "outputId": "583a48f6-5236-47e4-c1d2-8e3f66b14915"
      },
      "outputs": [
        {
          "output_type": "stream",
          "name": "stdout",
          "text": [
            "{'saudacao': re.compile('.*\\\\bcomo vai\\\\b.*|.*\\\\bolá\\\\b.*|.*\\\\bboa tarde\\\\b.*|.*\\\\boi\\\\b.*|.*\\\\btudo bem\\\\b.*|.*\\\\bbom dia\\\\b.*|.*\\\\bboa noite\\\\b.*'), 'horario_atendimento': re.compile('.*\\\\bplano\\\\b.*|.*\\\\bprograma\\\\b.*|.*\\\\bhorário\\\\b.*|.*\\\\bcronograma\\\\b.*|.*\\\\bordem_do_dia\\\\b.*|.*\\\\bagenda\\\\b.*'), 'endereco': re.compile('.*\\\\blocalização\\\\b.*|.*\\\\blogradouro\\\\b.*|.*\\\\bdireção\\\\b.*|.*\\\\bdestino\\\\b.*|.*\\\\bendereço\\\\b.*|.*\\\\bdomicílio\\\\b.*|.*\\\\brua\\\\b.*'), 'cardapio': re.compile('.*\\\\bcardápio\\\\b.*|.*\\\\bpratos\\\\b.*|.*\\\\bprato\\\\b.*|.*\\\\bmenu\\\\b.*'), 'pedido': re.compile('.*\\\\boração\\\\b.*|.*\\\\bpedir comida\\\\b.*|.*\\\\bfazer pedido\\\\b.*|.*\\\\bpetição\\\\b.*|.*\\\\bapelo\\\\b.*|.*\\\\bencomenda\\\\b.*|.*\\\\binstância\\\\b.*|.*\\\\bpergunta\\\\b.*|.*\\\\bsolicitação\\\\b.*|.*\\\\bdemanda\\\\b.*|.*\\), 'delivery': re.compile('.*\\\\bentrega em casa\\\\b.*|.*\\\\bentregas\\\\b.*|.*\\\\bentrega em domicílio\\\\b.*|.*\\\\bleva-e-traz\\\\b.*|.*\\\\bentrega\\\\b.*|.*\\\\btransportar\\\\b.*'), 'reserva': re.compile('.*\\\\breserva\\\\b.*|.*\\\\bagendamento\\\\b.*|.*\\\\breservas_(ecologia)\\\\b.*|.*\\\\breservação\\\\b.*|.*\\\\bestoque\\\\b.*|.*\\\\bmarcar hora\\\\b.*|.*\\\\breservas\\\\b.*|.*\\\\bcombinar hora\\\\b.*')}\n"
          ]
        }
      ],
      "source": [
        "# Dicionario de palavras-chave e intencoes\n",
        "keywords={}\n",
        "keywords_dict={}\n",
        "\n",
        "# Cria novo registro de intencao para saudacoes\n",
        "keywords['saudacao']=[]\n",
        "# Popula a entrada criada com lista de sinonimos da palavra-chave \"olá\" e formata com metacaracteres do regex\n",
        "for sin in list(lista_sinonimos['olá']):\n",
        "  keywords['saudacao'].append('.*\\\\b'+sin+'\\\\b.*')\n",
        "\n",
        "# Cria novo registro de intencao para horario de atendimento\n",
        "keywords['horario_atendimento']=[]\n",
        "# Popula a entrada criada com lista de sinonimos da palavra-chave \"horário\" e formata com metacaracteres do regex\n",
        "for sin in list(lista_sinonimos['horário']):\n",
        "  keywords['horario_atendimento'].append('.*\\\\b'+sin+'\\\\b.*')\n",
        "\n",
        "# Cria novo registro de intencao para endereço\n",
        "keywords['endereco']=[]\n",
        "# Popula a entrada criada com lista de sinonimos da palavra-chave \"endereço\" e formata com metacaracteres do regex\n",
        "for sin in list(lista_sinonimos['endereço']):\n",
        "  keywords['endereco'].append('.*\\\\b'+sin+'\\\\b.*')\n",
        "\n",
        "# Cria novo registro de intencao para cardapio\n",
        "keywords['cardapio']=[]\n",
        "# Popula a entrada criada com lista de sinonimos da palavra-chave \"cardápio\" e formata com metacaracteres do regex\n",
        "for sin in list(lista_sinonimos['cardápio']):\n",
        "  keywords['cardapio'].append('.*\\\\b'+sin+'\\\\b.*')\n",
        "\n",
        "# Cria novo registro de intencao para pedido\n",
        "keywords['pedido']=[]\n",
        "# Popula a entrada criada com lista de sinonimos da palavra-chave \"pedido\" e formata com metacaracteres do regex\n",
        "for sin in list(lista_sinonimos['pedido']):\n",
        "  keywords['pedido'].append('.*\\\\b'+sin+'\\\\b.*')\n",
        "\n",
        "# Cria novo registro de intencao para delivery\n",
        "keywords['delivery']=[]\n",
        "# Popula a entrada criada com lista de sinonimos da palavra-chave \"delivery\" e formata com metacaracteres do regex\n",
        "for sin in list(lista_sinonimos['delivery']):\n",
        "  keywords['delivery'].append('.*\\\\b'+sin+'\\\\b.*')\n",
        "\n",
        "# Cria novo registro de intencao para reseva\n",
        "keywords['reserva']=[]\n",
        "# Popula a entrada criada com lista de sinonimos da palavra-chave \"reserva\" e formata com metacaracteres do regex\n",
        "for sin in list(lista_sinonimos['reserva']):\n",
        "  keywords['reserva'].append('.*\\\\b'+sin+'\\\\b.*')\n",
        "\n",
        "for intent, keys in keywords.items():\n",
        "  # Une todas palavras-chave sinonimas com o operador OU\n",
        "  keywords_dict[intent]=re.compile('|'.join(keys))\n",
        "\n",
        "print(keywords_dict)"
      ]
    },
    {
      "cell_type": "markdown",
      "metadata": {
        "id": "sP4TilRaOzqB"
      },
      "source": [
        ">**OBSERVAÇÕES:** Criou-se uma grande expressão regular, que pode achar todos os termos sinônimos para cada intenção.\n",
        "><p align=\"justify\">O `\\b` utilizado na expressão regular define que será buscado o termo entre estes boundaries.</p>\n",
        "><p align=\"justify\">O `.*` define que o regex deve buscar o padrão em todo texto de entrada.</p>  \n",
        "><p align=\"justify\">Os sinais de `|` indicam o operador lógico OU para que qualquer um dos sinônimos ative o gatilho de busca.</p>"
      ]
    },
    {
      "cell_type": "markdown",
      "metadata": {
        "id": "Rp9GrChjP2n7"
      },
      "source": [
        "> ## 8. Definindo as respostas\n",
        "> Deve-se definir as respostas para cada intenção padrão, que será acionada quando não se encontra nenhuma palavra-chave na entrada do usuário."
      ]
    },
    {
      "cell_type": "code",
      "execution_count": 46,
      "metadata": {
        "id": "iPVYIom7P23n"
      },
      "outputs": [],
      "source": [
        "# Define o dicionário que associa as intenções as respostas - total de 8 intencoes apos melhoria\n",
        "respostas={\n",
        "    'saudacao':'Olá. Como posso ajudá-lo?',\n",
        "    'horario_atendimento':'Nosso horário de funcionamento é a partir das 11h30 até 15h00.',\n",
        "    'endereco':'Nosso endereço é Avenida Ronald do Brasil 1888, bairro Havaí.',\n",
        "    'endereco':'Nosso endereço está no bairro Havaí, na Avenida Ronald do Brasil 1888.',\n",
        "    'cardapio':'Veja nosso cardápio com pratos da culinária americana.',\n",
        "    'cardapio':'Fique à vontade para escolher um prato do nosso cardápio.',\n",
        "    'pedido':'Qual será o seu pedido?',\n",
        "    'pedido':'Qual será a entrada do seu pedido?',\n",
        "    'delivery':'O restaurante faz entregas na vizinhança localizada no raio de 15 km.',\n",
        "    'delivery':'Nosso restaurante faz entregas na vizinhança dentro do raio de 15 km.',\n",
        "    'reserva':'Recomendamos sempre fazer reserva para os finais de semana.',\n",
        "    'reserva':'Para os finais de semana é recomendado sempre fazer reserva.',\n",
        "    'padrao':'Me desculpe, mas não entendi o que você disse. Você poderia reformular?',\n",
        "}"
      ]
    },
    {
      "cell_type": "markdown",
      "metadata": {
        "id": "LpXYtjSsR7qR"
      },
      "source": [
        "> **OBSERVAÇÃO**: Poderia ser criada mais de uma resposta para cada intenção e assim evitar a repetitividade na interação.\n",
        "\n",
        "\n"
      ]
    },
    {
      "cell_type": "markdown",
      "metadata": {
        "id": "mpartfvuS64y"
      },
      "source": [
        ">## 9. Link das intenções e geração de repostas (front-end)\n",
        "><p align=\"justify\">Construção do algoritmo que fará a interação com o usuário (gerenciador de diálogo), onde recebe uma entrada do mesmo, e utilizando regex, há busca de palavras-chave no texto e associação com a intenção desejada.</p>"
      ]
    },
    {
      "cell_type": "code",
      "execution_count": 49,
      "metadata": {
        "colab": {
          "base_uri": "https://localhost:8080/"
        },
        "id": "g8EV79SITsTQ",
        "outputId": "226e74d8-475c-4dd2-d79a-f7263e122549"
      },
      "outputs": [
        {
          "output_type": "stream",
          "name": "stdout",
          "text": [
            "Bem-vindo ao restaurante McChat. \n",
            "boa tarde\n",
            "Olá. Como posso ajudá-lo?\n",
            "Qual o horário daqui?\n",
            "Nosso horário de funcionamento é a partir das 11h30 até 15h00.\n",
            "Poderia me dizer a localização?\n",
            "Nosso endereço está no bairro Havaí, na Avenida Ronald do Brasil 1888.\n",
            "Você deixa eu ver o cardápio?\n",
            "Fique à vontade para escolher um prato do nosso cardápio.\n",
            "Quero pedir comida\n",
            "Qual será a entrada do seu pedido?\n",
            "O restaurante faz entregas?\n",
            "Nosso restaurante faz entregas na vizinhança dentro do raio de 15 km.\n",
            "Vamos voltar na quinta-feira, preciso faze reserva?\n",
            "Para os finais de semana é recomendado sempre fazer reserva.\n",
            "Sair\n",
            "Obrigado pela visita.\n"
          ]
        }
      ],
      "source": [
        "print (\"Bem-vindo ao restaurante McChat. \")\n",
        "\n",
        "# Roda indefinidamente ate usuario pedir para sair\n",
        "while (True):\n",
        "\n",
        "    # Pega input do usuario e normaliza em letras minusculas\n",
        "    entrada = input().lower()\n",
        "\n",
        "    # Define condicao de saida\n",
        "    if entrada == 'sair':\n",
        "        print (\"Obrigado pela visita.\")\n",
        "        break\n",
        "\n",
        "    matched_intent = None\n",
        "\n",
        "    for intent,pattern in keywords_dict.items():\n",
        "\n",
        "      # Busca palavras-chave na entrada do usuario com regex\n",
        "      if re.search(pattern, entrada):\n",
        "\n",
        "        # Se encontra, guarda o nome da intencao correspondente\n",
        "        matched_intent=intent\n",
        "\n",
        "    # Por padrao, define-se intencao padrao\n",
        "    key='padrao'\n",
        "    if matched_intent in respostas:\n",
        "      key = matched_intent\n",
        "\n",
        "    # Chatbot imprime a resposta correspondente\n",
        "    print (respostas[key])\n",
        "\n",
        "    # LEMBRETE DE INTENCOES PARA TESTE:['boa noite','horário','endereço','cardápio','pedido','delivery','reserva']"
      ]
    },
    {
      "cell_type": "markdown",
      "metadata": {
        "id": "0JMOce1PXp1h"
      },
      "source": [
        ">## 10. O que fazer para melhorar o projeto?\n",
        ">A abordagem e a arquitetura de chatbot são mais simplificadas, dependentes do tamanho e cobertura da base de dados para funcionar. Para posterior melhoria do projeto, recomendam-se estas opções:</p>\n",
        ">*  Incluir mais intenções na base de dados relacionadas a um restaurante (endereço, cardápio, delivery, reservas) - OK!\n",
        ">*  Criar regra específica para reserva de mesas no restaurante em que as reservas são salvas em dicionário e, com uso de regex, para obter parâmetros de data, horário e quantidade de pessoas no meio do texto   \n",
        ">*  Resolver a intenção de horário de atendimento para possibilidade de restaurante abrir no almoço e jantar"
      ]
    },
    {
      "cell_type": "markdown",
      "metadata": {
        "id": "vP59ECc53nqF"
      },
      "source": [
        "> ## 11. Referências e material complementar\n",
        ">* [Criando meu ChatBot com Python](https://medium.com/@erikatiliorey/criando-um-chatbot-com-python-36f24b62df6c)\n",
        ">* [Introducing Conversational Chat bots using Rule Based Approach](https://chatbotslife.com/introducing-conversational-chat-bots-using-rule-based-approach-c8840aeaad07)\n",
        ">* [Building a Simple Chatbot from Scratch in Python (using NLTK)](https://medium.com/analytics-vidhya/building-a-simple-chatbot-in-python-using-nltk-7c8c8215ac6e)\n",
        ">* [How to write a smart Chatbot in 40 lines without ML](https://levelup.gitconnected.com/a-chatbot-without-machine-learning-b76ad00e30c1)\n",
        ">* [Building a Rule-based Chatbot in Python](https://blog.datasciencedojo.com/building-a-rule-based-chatbot-in-python/)\n",
        ">* [Basic FAQ chat bot](https://github.com/canonicalmg/FAQ-Chat-Bot)\n",
        ">* Notebook elaborado a partir de projeto desenvolvido pelo Prof. [Lucas Oliveira](http://lattes.cnpq.br/3611246009892500)."
      ]
    }
  ],
  "metadata": {
    "colab": {
      "provenance": [],
      "include_colab_link": true
    },
    "kernelspec": {
      "display_name": "Python 3",
      "name": "python3"
    }
  },
  "nbformat": 4,
  "nbformat_minor": 0
}